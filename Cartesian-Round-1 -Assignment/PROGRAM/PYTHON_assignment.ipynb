{
  "cells": [
    {
      "cell_type": "markdown",
      "source": [
        "PROGRAMMING\n",
        "\n",
        "PROBLEM STATEMENT\n",
        "\n",
        "The program takes input a short abstract and outputs the following\n",
        "\n",
        "1) Prints each word in reverse.\n",
        "\n",
        "2) Prints Top 2 occurring words in sorted order. The words that have occurred most of the time.\n",
        "\n",
        "SAMPLE INPUT\n",
        "\n",
        "\"This declaration represents a political commitment among declaration partners to advance a positive vision for the Internet in this era of a united europe\"\n",
        "\n",
        "SAMPLE OUTPUT\n",
        "\n",
        "\"Europe united a of era this in internet the for vision positive a advance to partners declaration among commitment political a represents declaration this\""
      ],
      "metadata": {
        "id": "1vKWoGY4ORCC"
      }
    },
    {
      "cell_type": "code",
      "execution_count": null,
      "metadata": {
        "id": "TJKcWqzHOQE3",
        "outputId": "70ee62c2-dc9a-4924-ca69-d73eb6c04f87"
      },
      "outputs": [
        {
          "name": "stdout",
          "output_type": "stream",
          "text": [
            "This declaration represents a political commitment among declaration partners to advance a positive vision for the Internet in this era of a united europe\n",
            "Europe united a of era this in internet the for vision positive a advance to partners declaration among commitment political a represents declaration this\n"
          ]
        }
      ],
      "source": [
        "a=input().strip().split(\" \")\n",
        "b=\" \".join(a[::-1]).capitalize()\n",
        "print(b)"
      ]
    },
    {
      "cell_type": "code",
      "execution_count": null,
      "metadata": {
        "id": "d65YYOfKOQFA",
        "outputId": "53e86533-d7ec-4ffa-fe9f-f61c0fbdfe67"
      },
      "outputs": [
        {
          "name": "stdout",
          "output_type": "stream",
          "text": [
            "['This', 'declaration', 'represents', 'a', 'political', 'commitment', 'among', 'declaration', 'partners', 'to', 'advance', 'a', 'positive', 'vision', 'for', 'the', 'Internet', 'in', 'this', 'era', 'of', 'a', 'united', 'europe']\n"
          ]
        }
      ],
      "source": [
        "print(a)"
      ]
    },
    {
      "cell_type": "code",
      "execution_count": null,
      "metadata": {
        "id": "qsq4J-wYOQFC",
        "outputId": "7e0c983f-e3a3-44e4-e0d9-1ebdb44f4b46"
      },
      "outputs": [
        {
          "name": "stdout",
          "output_type": "stream",
          "text": [
            "a    :3\n",
            "this    :2\n"
          ]
        }
      ],
      "source": [
        "c=b.strip().split(\" \")\n",
        "dic={}\n",
        "for i in c:\n",
        "    if i not in dic:\n",
        "        dic.update({i:c.count(i)})\n",
        "sort_dic = sorted(dic.items(), key=lambda x: x[1], reverse=True)\n",
        "print(sort_dic[0][0]+\"    :\"+str(sort_dic[0][1]))\n",
        "print(sort_dic[1][0]+\"    :\"+str(sort_dic[1][1]))"
      ]
    },
    {
      "cell_type": "code",
      "execution_count": null,
      "metadata": {
        "id": "mdiw9yy5OQFE"
      },
      "outputs": [],
      "source": []
    },
    {
      "cell_type": "code",
      "execution_count": null,
      "metadata": {
        "id": "HQjVEpLKOQFE"
      },
      "outputs": [],
      "source": []
    },
    {
      "cell_type": "code",
      "execution_count": null,
      "metadata": {
        "id": "ceWkBpygOQFF"
      },
      "outputs": [],
      "source": []
    }
  ],
  "metadata": {
    "kernelspec": {
      "display_name": "Python 3",
      "language": "python",
      "name": "python3"
    },
    "language_info": {
      "codemirror_mode": {
        "name": "ipython",
        "version": 3
      },
      "file_extension": ".py",
      "mimetype": "text/x-python",
      "name": "python",
      "nbconvert_exporter": "python",
      "pygments_lexer": "ipython3",
      "version": "3.8.3"
    },
    "colab": {
      "name": "PYTHON assignment.ipynb",
      "provenance": [],
      "collapsed_sections": []
    }
  },
  "nbformat": 4,
  "nbformat_minor": 0
}